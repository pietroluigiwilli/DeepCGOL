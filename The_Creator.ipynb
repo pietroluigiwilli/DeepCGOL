{
 "cells": [
  {
   "cell_type": "markdown",
   "metadata": {},
   "source": [
    "# The Creator<br>\n",
    "\n",
    " #### This is a deep reinforcement learning playground in which one or multiple neural netwoks in a generative arrangement seed the initial frame with **n** live cells (seeds). The artificially seeded frames are then evolved for **t** generations. The loss of becomes a function of the number of live cells at generation t. Non-adherence to the restriction of the number of seeds (n) needs to be punished severly in order for the game to work.\n",
    "  "
   ]
  },
  {
   "cell_type": "code",
   "execution_count": 36,
   "metadata": {},
   "outputs": [],
   "source": [
    "### CONWAY'S GAME OF LIFE \n",
    "### Welcome to Conway's Game of Life \n",
    "### the 3 rules of the game are:\n",
    "#1. Any live cell with two or three live neighbours survives.\n",
    "#2. Any dead cell with three live neighbours becomes a live cell.\n",
    "#3. All other live cells die in the next generation. Similarly, all other dead cells stay dead.\n",
    "\n",
    "import numpy as np\n",
    "from matplotlib import colors\n",
    "import matplotlib.pyplot as plt\n",
    "import pylab as pl\n",
    "import random\n",
    "import pandas as pd\n",
    "import torch\n",
    "import torchvision\n",
    "from tqdm.notebook import tqdm\n",
    "from functions.data import Data, torch_evolve, spawner\n",
    "import wandb\n",
    "device = torch.device(\"cuda\")\n",
    "\n",
    "frame_shape = (10,10)\n"
   ]
  },
  {
   "cell_type": "code",
   "execution_count": null,
   "metadata": {},
   "outputs": [],
   "source": [
    "class Generator(torch.nn.Module):\n",
    "    def __init__(self, n_frames : int, p : float):\n",
    "        super(Generator, self).__init__()\n",
    "        layers = 4\n",
    "        assert n_frames % layers == 0, f\"n_frames must be divisible by the number of layers ({layers})\"\n",
    "        self.relu = torch.nn.ReLU()\n",
    "        self.dropout = torch.nn.Dropout(p)\n",
    "        self.tconv1 = torch.nn.Sequential(\n",
    "            torch.nn.ConvTranspose2d(1, n_frames//layers*1, kernel_size=5, stride=1, padding=1),\n",
    "            torch.nn.BatchNorm2d(n_frames//layers*1),\n",
    "            self.relu,\n",
    "            self.dropout)\n",
    "        self.tconv2 = torch.nn.Sequential(\n",
    "            torch.nn.ConvTranspose2d(n_frames//layers*1, n_frames//layers*2, kernel_size=5, stride=1, padding=1),\n",
    "            torch.nn.BatchNorm2d(n_frames//layers*2),\n",
    "            self.relu,\n",
    "            self.dropout)\n",
    "        self.tconv3 = torch.nn.Sequential(\n",
    "            torch.nn.ConvTranspose2d(n_frames//layers*2, n_frames//layers*3, kernel_size=5, stride=1, padding=1),\n",
    "            torch.nn.BatchNorm2d(n_frames//layers*3),\n",
    "            self.relu,\n",
    "            self.dropout)\n",
    "        self.tconv4 = torch.nn.Sequential(\n",
    "            torch.nn.ConvTranspose2d(n_frames//layers*3, n_frames//layers*4, kernel_size=6, stride=1, padding=1),\n",
    "            torch.nn.BatchNorm2d(n_frames//layers*4),\n",
    "            self.relu,)\n",
    "        self.sigmoid = torch.nn.Sigmoid()\n",
    "\n",
    "    def forward(self, x):\n",
    "        x = self.tconv1(x)\n",
    "        x = self.tconv2(x)\n",
    "        x = self.tconv3(x)\n",
    "        x = self.tconv4(x)\n",
    "        x = self.sigmoid(x)\n",
    "        return x\n",
    "\n"
   ]
  },
  {
   "cell_type": "code",
   "execution_count": 24,
   "metadata": {},
   "outputs": [
    {
     "name": "stdout",
     "output_type": "stream",
     "text": [
      "10\n"
     ]
    }
   ],
   "source": [
    "def reward(input, output, output_evolved, order=2):\n",
    "    return (((input-torch.abs(torch.sum(output, dim(-1, -2))-input))/input)**order) * (torch.sum(evolved_output, dim(-1, -2))-input)/input"
   ]
  },
  {
   "cell_type": "code",
   "execution_count": null,
   "metadata": {},
   "outputs": [],
   "source": [
    "def evolve(frame, generations):\n",
    "    for i in range(generations):\n",
    "        frame = torch_evolve(frame)\n",
    "    return frame"
   ]
  },
  {
   "cell_type": "code",
   "execution_count": null,
   "metadata": {},
   "outputs": [],
   "source": [
    "generator = Generator(256, 0.1).to(device)\n",
    "optim = torch.optim.Adam(generator.parameters(), lr=0.001)\n",
    "epochs = 100\n",
    "batch_size = 32\n",
    "\n",
    "for epoch in tqdm(range(epochs)):\n",
    "    for batch in tqdm(range(batch_size)):\n",
    "        input = torch.randint(5, 20, batch_size)\n",
    "        torch repaet"
   ]
  }
 ],
 "metadata": {
  "kernelspec": {
   "display_name": "base",
   "language": "python",
   "name": "python3"
  },
  "language_info": {
   "codemirror_mode": {
    "name": "ipython",
    "version": 3
   },
   "file_extension": ".py",
   "mimetype": "text/x-python",
   "name": "python",
   "nbconvert_exporter": "python",
   "pygments_lexer": "ipython3",
   "version": "3.9.13"
  }
 },
 "nbformat": 4,
 "nbformat_minor": 2
}
